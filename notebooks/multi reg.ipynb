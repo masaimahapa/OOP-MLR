{
 "cells": [
  {
   "cell_type": "markdown",
   "metadata": {},
   "source": [
    "# Salary predictions using Multivariate Linear Regression\n",
    "* In this project, we are faced with the challange to predict how much people earn taking into account more than one feature or characteristic using multivariate linear regression which takes the formula. \n",
    "\n",
    "\\begin{align}\n",
    "\\dot{y} &= \\ a+ bx+cx+... nx\\\\\n",
    "\\end{align}\n",
    "\n"
   ]
  },
  {
   "cell_type": "code",
   "execution_count": 1,
   "metadata": {},
   "outputs": [
    {
     "name": "stderr",
     "output_type": "stream",
     "text": [
      "/home/masai/anaconda3/lib/python3.7/site-packages/statsmodels/compat/pandas.py:23: FutureWarning: The Panel class is removed from pandas. Accessing it from the top-level namespace will also be removed in the next version\n",
      "  data_klasses = (pandas.Series, pandas.DataFrame, pandas.Panel)\n"
     ]
    }
   ],
   "source": [
    "import pandas as pd\n",
    "import matplotlib.pyplot as plt\n",
    "import numpy as np\n",
    "from pandas.plotting import scatter_matrix\n",
    "import statsmodels.api as sm\n",
    "import seaborn as sns"
   ]
  },
  {
   "cell_type": "markdown",
   "metadata": {},
   "source": [
    "# Have a look at the structure of our data"
   ]
  },
  {
   "cell_type": "code",
   "execution_count": 2,
   "metadata": {},
   "outputs": [
    {
     "data": {
      "text/html": [
       "<div>\n",
       "<style scoped>\n",
       "    .dataframe tbody tr th:only-of-type {\n",
       "        vertical-align: middle;\n",
       "    }\n",
       "\n",
       "    .dataframe tbody tr th {\n",
       "        vertical-align: top;\n",
       "    }\n",
       "\n",
       "    .dataframe thead th {\n",
       "        text-align: right;\n",
       "    }\n",
       "</style>\n",
       "<table border=\"1\" class=\"dataframe\">\n",
       "  <thead>\n",
       "    <tr style=\"text-align: right;\">\n",
       "      <th></th>\n",
       "      <th>salary</th>\n",
       "      <th>exprior</th>\n",
       "      <th>yearsworked</th>\n",
       "      <th>yearsrank</th>\n",
       "      <th>market</th>\n",
       "      <th>degree</th>\n",
       "      <th>otherqual</th>\n",
       "      <th>position</th>\n",
       "      <th>male</th>\n",
       "      <th>Field</th>\n",
       "      <th>yearsabs</th>\n",
       "    </tr>\n",
       "  </thead>\n",
       "  <tbody>\n",
       "    <tr>\n",
       "      <th>0</th>\n",
       "      <td>53000.0</td>\n",
       "      <td>0</td>\n",
       "      <td>0</td>\n",
       "      <td>0</td>\n",
       "      <td>1.17</td>\n",
       "      <td>1</td>\n",
       "      <td>0</td>\n",
       "      <td>1</td>\n",
       "      <td>1</td>\n",
       "      <td>3</td>\n",
       "      <td>0</td>\n",
       "    </tr>\n",
       "    <tr>\n",
       "      <th>1</th>\n",
       "      <td>58000.0</td>\n",
       "      <td>1</td>\n",
       "      <td>0</td>\n",
       "      <td>0</td>\n",
       "      <td>1.24</td>\n",
       "      <td>1</td>\n",
       "      <td>0</td>\n",
       "      <td>1</td>\n",
       "      <td>1</td>\n",
       "      <td>2</td>\n",
       "      <td>0</td>\n",
       "    </tr>\n",
       "    <tr>\n",
       "      <th>2</th>\n",
       "      <td>45500.0</td>\n",
       "      <td>0</td>\n",
       "      <td>0</td>\n",
       "      <td>0</td>\n",
       "      <td>1.21</td>\n",
       "      <td>1</td>\n",
       "      <td>0</td>\n",
       "      <td>1</td>\n",
       "      <td>1</td>\n",
       "      <td>3</td>\n",
       "      <td>2</td>\n",
       "    </tr>\n",
       "    <tr>\n",
       "      <th>3</th>\n",
       "      <td>35782.0</td>\n",
       "      <td>0</td>\n",
       "      <td>2</td>\n",
       "      <td>1</td>\n",
       "      <td>0.99</td>\n",
       "      <td>1</td>\n",
       "      <td>0</td>\n",
       "      <td>1</td>\n",
       "      <td>1</td>\n",
       "      <td>4</td>\n",
       "      <td>1</td>\n",
       "    </tr>\n",
       "    <tr>\n",
       "      <th>4</th>\n",
       "      <td>34731.0</td>\n",
       "      <td>0</td>\n",
       "      <td>2</td>\n",
       "      <td>2</td>\n",
       "      <td>0.91</td>\n",
       "      <td>1</td>\n",
       "      <td>0</td>\n",
       "      <td>1</td>\n",
       "      <td>1</td>\n",
       "      <td>4</td>\n",
       "      <td>1</td>\n",
       "    </tr>\n",
       "  </tbody>\n",
       "</table>\n",
       "</div>"
      ],
      "text/plain": [
       "    salary  exprior  yearsworked  yearsrank  market  degree  otherqual  \\\n",
       "0  53000.0        0            0          0    1.17       1          0   \n",
       "1  58000.0        1            0          0    1.24       1          0   \n",
       "2  45500.0        0            0          0    1.21       1          0   \n",
       "3  35782.0        0            2          1    0.99       1          0   \n",
       "4  34731.0        0            2          2    0.91       1          0   \n",
       "\n",
       "   position  male  Field  yearsabs  \n",
       "0         1     1      3         0  \n",
       "1         1     1      2         0  \n",
       "2         1     1      3         2  \n",
       "3         1     1      4         1  \n",
       "4         1     1      4         1  "
      ]
     },
     "execution_count": 2,
     "metadata": {},
     "output_type": "execute_result"
    }
   ],
   "source": [
    "df= pd.read_csv('../data/salary.csv')\n",
    "df.head()"
   ]
  },
  {
   "cell_type": "code",
   "execution_count": 3,
   "metadata": {},
   "outputs": [
    {
     "data": {
      "text/plain": [
       "(514, 11)"
      ]
     },
     "execution_count": 3,
     "metadata": {},
     "output_type": "execute_result"
    }
   ],
   "source": [
    "df.shape"
   ]
  },
  {
   "cell_type": "markdown",
   "metadata": {},
   "source": [
    "A brief description of our data. We have 514 entries, and only one value is missing, found in the salary column. All columns are of type float or integer."
   ]
  },
  {
   "cell_type": "code",
   "execution_count": 4,
   "metadata": {},
   "outputs": [
    {
     "name": "stdout",
     "output_type": "stream",
     "text": [
      "<class 'pandas.core.frame.DataFrame'>\n",
      "RangeIndex: 514 entries, 0 to 513\n",
      "Data columns (total 11 columns):\n",
      "salary         513 non-null float64\n",
      "exprior        514 non-null int64\n",
      "yearsworked    514 non-null int64\n",
      "yearsrank      514 non-null int64\n",
      "market         514 non-null float64\n",
      "degree         514 non-null int64\n",
      "otherqual      514 non-null int64\n",
      "position       514 non-null int64\n",
      "male           514 non-null int64\n",
      "Field          514 non-null int64\n",
      "yearsabs       514 non-null int64\n",
      "dtypes: float64(2), int64(9)\n",
      "memory usage: 44.3 KB\n"
     ]
    }
   ],
   "source": [
    "df.info()"
   ]
  },
  {
   "cell_type": "code",
   "execution_count": 5,
   "metadata": {},
   "outputs": [
    {
     "data": {
      "text/html": [
       "<div>\n",
       "<style scoped>\n",
       "    .dataframe tbody tr th:only-of-type {\n",
       "        vertical-align: middle;\n",
       "    }\n",
       "\n",
       "    .dataframe tbody tr th {\n",
       "        vertical-align: top;\n",
       "    }\n",
       "\n",
       "    .dataframe thead th {\n",
       "        text-align: right;\n",
       "    }\n",
       "</style>\n",
       "<table border=\"1\" class=\"dataframe\">\n",
       "  <thead>\n",
       "    <tr style=\"text-align: right;\">\n",
       "      <th></th>\n",
       "      <th>salary</th>\n",
       "      <th>exprior</th>\n",
       "      <th>yearsworked</th>\n",
       "      <th>yearsrank</th>\n",
       "      <th>market</th>\n",
       "      <th>degree</th>\n",
       "      <th>otherqual</th>\n",
       "      <th>position</th>\n",
       "      <th>male</th>\n",
       "      <th>Field</th>\n",
       "      <th>yearsabs</th>\n",
       "    </tr>\n",
       "  </thead>\n",
       "  <tbody>\n",
       "    <tr>\n",
       "      <th>count</th>\n",
       "      <td>513.000000</td>\n",
       "      <td>514.000000</td>\n",
       "      <td>514.000000</td>\n",
       "      <td>514.000000</td>\n",
       "      <td>514.000000</td>\n",
       "      <td>514.000000</td>\n",
       "      <td>514.000000</td>\n",
       "      <td>514.000000</td>\n",
       "      <td>514.000000</td>\n",
       "      <td>514.000000</td>\n",
       "      <td>514.000000</td>\n",
       "    </tr>\n",
       "    <tr>\n",
       "      <th>mean</th>\n",
       "      <td>50863.220098</td>\n",
       "      <td>2.926070</td>\n",
       "      <td>12.852140</td>\n",
       "      <td>7.052529</td>\n",
       "      <td>0.948521</td>\n",
       "      <td>0.964981</td>\n",
       "      <td>0.044747</td>\n",
       "      <td>2.132296</td>\n",
       "      <td>0.750973</td>\n",
       "      <td>2.529183</td>\n",
       "      <td>6.982490</td>\n",
       "    </tr>\n",
       "    <tr>\n",
       "      <th>std</th>\n",
       "      <td>12685.132358</td>\n",
       "      <td>4.791397</td>\n",
       "      <td>9.444695</td>\n",
       "      <td>6.414771</td>\n",
       "      <td>0.149380</td>\n",
       "      <td>0.184008</td>\n",
       "      <td>0.206950</td>\n",
       "      <td>0.820075</td>\n",
       "      <td>0.432871</td>\n",
       "      <td>1.127420</td>\n",
       "      <td>16.873156</td>\n",
       "    </tr>\n",
       "    <tr>\n",
       "      <th>min</th>\n",
       "      <td>29000.000000</td>\n",
       "      <td>0.000000</td>\n",
       "      <td>0.000000</td>\n",
       "      <td>0.000000</td>\n",
       "      <td>0.710000</td>\n",
       "      <td>0.000000</td>\n",
       "      <td>0.000000</td>\n",
       "      <td>1.000000</td>\n",
       "      <td>0.000000</td>\n",
       "      <td>1.000000</td>\n",
       "      <td>0.000000</td>\n",
       "    </tr>\n",
       "    <tr>\n",
       "      <th>25%</th>\n",
       "      <td>40000.000000</td>\n",
       "      <td>0.000000</td>\n",
       "      <td>4.000000</td>\n",
       "      <td>2.000000</td>\n",
       "      <td>0.840000</td>\n",
       "      <td>1.000000</td>\n",
       "      <td>0.000000</td>\n",
       "      <td>1.000000</td>\n",
       "      <td>1.000000</td>\n",
       "      <td>2.000000</td>\n",
       "      <td>0.000000</td>\n",
       "    </tr>\n",
       "    <tr>\n",
       "      <th>50%</th>\n",
       "      <td>50096.000000</td>\n",
       "      <td>0.500000</td>\n",
       "      <td>12.000000</td>\n",
       "      <td>5.000000</td>\n",
       "      <td>0.920000</td>\n",
       "      <td>1.000000</td>\n",
       "      <td>0.000000</td>\n",
       "      <td>2.000000</td>\n",
       "      <td>1.000000</td>\n",
       "      <td>3.000000</td>\n",
       "      <td>1.000000</td>\n",
       "    </tr>\n",
       "    <tr>\n",
       "      <th>75%</th>\n",
       "      <td>60345.000000</td>\n",
       "      <td>4.000000</td>\n",
       "      <td>22.000000</td>\n",
       "      <td>12.000000</td>\n",
       "      <td>1.020000</td>\n",
       "      <td>1.000000</td>\n",
       "      <td>0.000000</td>\n",
       "      <td>3.000000</td>\n",
       "      <td>1.000000</td>\n",
       "      <td>4.000000</td>\n",
       "      <td>2.000000</td>\n",
       "    </tr>\n",
       "    <tr>\n",
       "      <th>max</th>\n",
       "      <td>96156.000000</td>\n",
       "      <td>25.000000</td>\n",
       "      <td>41.000000</td>\n",
       "      <td>28.000000</td>\n",
       "      <td>1.330000</td>\n",
       "      <td>1.000000</td>\n",
       "      <td>1.000000</td>\n",
       "      <td>3.000000</td>\n",
       "      <td>1.000000</td>\n",
       "      <td>4.000000</td>\n",
       "      <td>118.000000</td>\n",
       "    </tr>\n",
       "  </tbody>\n",
       "</table>\n",
       "</div>"
      ],
      "text/plain": [
       "             salary     exprior  yearsworked   yearsrank      market  \\\n",
       "count    513.000000  514.000000   514.000000  514.000000  514.000000   \n",
       "mean   50863.220098    2.926070    12.852140    7.052529    0.948521   \n",
       "std    12685.132358    4.791397     9.444695    6.414771    0.149380   \n",
       "min    29000.000000    0.000000     0.000000    0.000000    0.710000   \n",
       "25%    40000.000000    0.000000     4.000000    2.000000    0.840000   \n",
       "50%    50096.000000    0.500000    12.000000    5.000000    0.920000   \n",
       "75%    60345.000000    4.000000    22.000000   12.000000    1.020000   \n",
       "max    96156.000000   25.000000    41.000000   28.000000    1.330000   \n",
       "\n",
       "           degree   otherqual    position        male       Field    yearsabs  \n",
       "count  514.000000  514.000000  514.000000  514.000000  514.000000  514.000000  \n",
       "mean     0.964981    0.044747    2.132296    0.750973    2.529183    6.982490  \n",
       "std      0.184008    0.206950    0.820075    0.432871    1.127420   16.873156  \n",
       "min      0.000000    0.000000    1.000000    0.000000    1.000000    0.000000  \n",
       "25%      1.000000    0.000000    1.000000    1.000000    2.000000    0.000000  \n",
       "50%      1.000000    0.000000    2.000000    1.000000    3.000000    1.000000  \n",
       "75%      1.000000    0.000000    3.000000    1.000000    4.000000    2.000000  \n",
       "max      1.000000    1.000000    3.000000    1.000000    4.000000  118.000000  "
      ]
     },
     "execution_count": 5,
     "metadata": {},
     "output_type": "execute_result"
    }
   ],
   "source": [
    "df.describe()"
   ]
  },
  {
   "cell_type": "markdown",
   "metadata": {},
   "source": [
    "The table above contains a descritptive statistics of the data at hand. Most of the columns here are categorical. \n",
    "\n",
    "One column which looks very strange is the yearsabs column, which is how many years a person was away from the job market due to illness or parenting. The maximum is 118, which is down right impossible."
   ]
  },
  {
   "cell_type": "markdown",
   "metadata": {},
   "source": [
    "### Find missing values and drop them"
   ]
  },
  {
   "cell_type": "code",
   "execution_count": 6,
   "metadata": {},
   "outputs": [
    {
     "data": {
      "text/html": [
       "<div>\n",
       "<style scoped>\n",
       "    .dataframe tbody tr th:only-of-type {\n",
       "        vertical-align: middle;\n",
       "    }\n",
       "\n",
       "    .dataframe tbody tr th {\n",
       "        vertical-align: top;\n",
       "    }\n",
       "\n",
       "    .dataframe thead th {\n",
       "        text-align: right;\n",
       "    }\n",
       "</style>\n",
       "<table border=\"1\" class=\"dataframe\">\n",
       "  <thead>\n",
       "    <tr style=\"text-align: right;\">\n",
       "      <th></th>\n",
       "      <th>salary</th>\n",
       "      <th>exprior</th>\n",
       "      <th>yearsworked</th>\n",
       "      <th>yearsrank</th>\n",
       "      <th>market</th>\n",
       "      <th>degree</th>\n",
       "      <th>otherqual</th>\n",
       "      <th>position</th>\n",
       "      <th>male</th>\n",
       "      <th>Field</th>\n",
       "      <th>yearsabs</th>\n",
       "    </tr>\n",
       "  </thead>\n",
       "  <tbody>\n",
       "    <tr>\n",
       "      <th>208</th>\n",
       "      <td>NaN</td>\n",
       "      <td>0</td>\n",
       "      <td>21</td>\n",
       "      <td>10</td>\n",
       "      <td>0.93</td>\n",
       "      <td>1</td>\n",
       "      <td>0</td>\n",
       "      <td>3</td>\n",
       "      <td>1</td>\n",
       "      <td>4</td>\n",
       "      <td>1</td>\n",
       "    </tr>\n",
       "  </tbody>\n",
       "</table>\n",
       "</div>"
      ],
      "text/plain": [
       "     salary  exprior  yearsworked  yearsrank  market  degree  otherqual  \\\n",
       "208     NaN        0           21         10    0.93       1          0   \n",
       "\n",
       "     position  male  Field  yearsabs  \n",
       "208         3     1      4         1  "
      ]
     },
     "execution_count": 6,
     "metadata": {},
     "output_type": "execute_result"
    }
   ],
   "source": [
    "df[df.salary.isnull()]"
   ]
  },
  {
   "cell_type": "code",
   "execution_count": 7,
   "metadata": {},
   "outputs": [],
   "source": [
    "df.dropna(inplace=True)"
   ]
  },
  {
   "cell_type": "markdown",
   "metadata": {},
   "source": [
    "Since it is only 1 person has a missing salary value, I will drop the record for this analysis."
   ]
  },
  {
   "cell_type": "markdown",
   "metadata": {},
   "source": [
    "## Exploratory data analysis"
   ]
  },
  {
   "cell_type": "code",
   "execution_count": 8,
   "metadata": {},
   "outputs": [
    {
     "data": {
      "image/png": "[encoded data removed]",
      "text/plain": [
       "<Figure size 900x900 with 30 Axes>"
      ]
     },
     "metadata": {
      "needs_background": "light"
     },
     "output_type": "display_data"
    }
   ],
   "source": [
    "sns.pairplot(df[['salary', 'yearsworked', 'exprior', 'yearsabs', 'yearsrank']])\n",
    "plt.title('Pair plot of variables')\n",
    "plt.show()"
   ]
  },
  {
   "cell_type": "markdown",
   "metadata": {},
   "source": [
    "Looking above at the relationships between the various features, we notice a couple of interesting linear relationships;\n",
    "\n",
    "1. salary and yearsworked\n",
    "2. salary and yearsrank\n",
    "\n",
    "### multicolinear\n",
    "years worked and years rank have linear relationship which is easy to see. will explore on this later if it will violate our linear model principles."
   ]
  },
  {
   "cell_type": "code",
   "execution_count": 9,
   "metadata": {},
   "outputs": [
    {
     "data": {
      "image/png": "[encoded data removed]",
      "text/plain": [
       "<Figure size 1440x864 with 12 Axes>"
      ]
     },
     "metadata": {
      "needs_background": "light"
     },
     "output_type": "display_data"
    }
   ],
   "source": [
    "df.hist(bins=50, figsize=(20,12))\n",
    "plt.show()"
   ]
  },
  {
   "cell_type": "markdown",
   "metadata": {},
   "source": [
    "### Check outlier"
   ]
  },
  {
   "cell_type": "code",
   "execution_count": 10,
   "metadata": {},
   "outputs": [
    {
     "data": {
      "image/png": "[encoded data removed]",
      "text/plain": [
       "<Figure size 432x288 with 1 Axes>"
      ]
     },
     "metadata": {
      "needs_background": "light"
     },
     "output_type": "display_data"
    }
   ],
   "source": [
    "sns.boxplot(df.salary)\n",
    "plt.title('salary box plot')\n",
    "plt.show()"
   ]
  },
  {
   "cell_type": "markdown",
   "metadata": {},
   "source": [
    "A few outliers are spotted earning more than 90000. We decided to leave them in our data as they are not too far out above the upper bound of our box whiskas and don't seem to be incorrect entries."
   ]
  },
  {
   "cell_type": "markdown",
   "metadata": {},
   "source": [
    "# training and test data split\n",
    "We then split our data with a ratio of:\n",
    "* 75% train data\n",
    "* 25% test data"
   ]
  },
  {
   "cell_type": "code",
   "execution_count": 11,
   "metadata": {},
   "outputs": [],
   "source": [
    "np.random.seed(10)\n",
    "\n",
    "shuffled_index= np.random.permutation(len(df))\n",
    "train_set_size= int(len(df)*0.75)\n",
    "train_set_size\n",
    "train_index= shuffled_index[:train_set_size]\n",
    "test_index= shuffled_index[train_set_size:]\n",
    "train= df.iloc[train_index]\n",
    "test= df.iloc[test_index]"
   ]
  },
  {
   "cell_type": "code",
   "execution_count": 12,
   "metadata": {},
   "outputs": [
    {
     "name": "stdout",
     "output_type": "stream",
     "text": [
      "train set shape: (384, 11)\n",
      "test set shape: (129, 11)\n"
     ]
    }
   ],
   "source": [
    "print(f'train set shape: {train.shape}')\n",
    "print(f'test set shape: {test.shape}')"
   ]
  },
  {
   "cell_type": "markdown",
   "metadata": {},
   "source": [
    "## Correlation Matrix"
   ]
  },
  {
   "cell_type": "code",
   "execution_count": 13,
   "metadata": {
    "scrolled": true
   },
   "outputs": [
    {
     "data": {
      "text/html": [
       "<div>\n",
       "<style scoped>\n",
       "    .dataframe tbody tr th:only-of-type {\n",
       "        vertical-align: middle;\n",
       "    }\n",
       "\n",
       "    .dataframe tbody tr th {\n",
       "        vertical-align: top;\n",
       "    }\n",
       "\n",
       "    .dataframe thead th {\n",
       "        text-align: right;\n",
       "    }\n",
       "</style>\n",
       "<table border=\"1\" class=\"dataframe\">\n",
       "  <thead>\n",
       "    <tr style=\"text-align: right;\">\n",
       "      <th></th>\n",
       "      <th>salary</th>\n",
       "      <th>exprior</th>\n",
       "      <th>yearsworked</th>\n",
       "      <th>yearsrank</th>\n",
       "      <th>market</th>\n",
       "      <th>degree</th>\n",
       "      <th>otherqual</th>\n",
       "      <th>position</th>\n",
       "      <th>male</th>\n",
       "      <th>Field</th>\n",
       "      <th>yearsabs</th>\n",
       "    </tr>\n",
       "  </thead>\n",
       "  <tbody>\n",
       "    <tr>\n",
       "      <th>exprior</th>\n",
       "      <td>0.119989</td>\n",
       "      <td>1.000000</td>\n",
       "      <td>-0.245788</td>\n",
       "      <td>-0.065893</td>\n",
       "      <td>-0.035202</td>\n",
       "      <td>-0.049165</td>\n",
       "      <td>0.264655</td>\n",
       "      <td>0.118031</td>\n",
       "      <td>0.047276</td>\n",
       "      <td>-0.046854</td>\n",
       "      <td>0.132022</td>\n",
       "    </tr>\n",
       "    <tr>\n",
       "      <th>yearsworked</th>\n",
       "      <td>0.623589</td>\n",
       "      <td>-0.245788</td>\n",
       "      <td>1.000000</td>\n",
       "      <td>0.813456</td>\n",
       "      <td>-0.070740</td>\n",
       "      <td>0.028122</td>\n",
       "      <td>-0.040157</td>\n",
       "      <td>0.746311</td>\n",
       "      <td>0.278286</td>\n",
       "      <td>-0.264208</td>\n",
       "      <td>0.056113</td>\n",
       "    </tr>\n",
       "    <tr>\n",
       "      <th>yearsrank</th>\n",
       "      <td>0.610706</td>\n",
       "      <td>-0.065893</td>\n",
       "      <td>0.813456</td>\n",
       "      <td>1.000000</td>\n",
       "      <td>-0.026869</td>\n",
       "      <td>0.006347</td>\n",
       "      <td>0.007232</td>\n",
       "      <td>0.484891</td>\n",
       "      <td>0.237397</td>\n",
       "      <td>-0.265620</td>\n",
       "      <td>0.035962</td>\n",
       "    </tr>\n",
       "    <tr>\n",
       "      <th>market</th>\n",
       "      <td>0.407214</td>\n",
       "      <td>-0.035202</td>\n",
       "      <td>-0.070740</td>\n",
       "      <td>-0.026869</td>\n",
       "      <td>1.000000</td>\n",
       "      <td>0.036456</td>\n",
       "      <td>0.021641</td>\n",
       "      <td>-0.013116</td>\n",
       "      <td>0.181401</td>\n",
       "      <td>-0.223887</td>\n",
       "      <td>-0.167177</td>\n",
       "    </tr>\n",
       "    <tr>\n",
       "      <th>degree</th>\n",
       "      <td>0.044554</td>\n",
       "      <td>-0.049165</td>\n",
       "      <td>0.028122</td>\n",
       "      <td>0.006347</td>\n",
       "      <td>0.036456</td>\n",
       "      <td>1.000000</td>\n",
       "      <td>-0.214654</td>\n",
       "      <td>0.043335</td>\n",
       "      <td>0.061419</td>\n",
       "      <td>-0.099077</td>\n",
       "      <td>0.029447</td>\n",
       "    </tr>\n",
       "    <tr>\n",
       "      <th>otherqual</th>\n",
       "      <td>0.167137</td>\n",
       "      <td>0.264655</td>\n",
       "      <td>-0.040157</td>\n",
       "      <td>0.007232</td>\n",
       "      <td>0.021641</td>\n",
       "      <td>-0.214654</td>\n",
       "      <td>1.000000</td>\n",
       "      <td>0.160941</td>\n",
       "      <td>0.016082</td>\n",
       "      <td>-0.076202</td>\n",
       "      <td>-0.017792</td>\n",
       "    </tr>\n",
       "    <tr>\n",
       "      <th>position</th>\n",
       "      <td>0.702122</td>\n",
       "      <td>0.118031</td>\n",
       "      <td>0.746311</td>\n",
       "      <td>0.484891</td>\n",
       "      <td>-0.013116</td>\n",
       "      <td>0.043335</td>\n",
       "      <td>0.160941</td>\n",
       "      <td>1.000000</td>\n",
       "      <td>0.317390</td>\n",
       "      <td>-0.292313</td>\n",
       "      <td>0.030521</td>\n",
       "    </tr>\n",
       "    <tr>\n",
       "      <th>male</th>\n",
       "      <td>0.361564</td>\n",
       "      <td>0.047276</td>\n",
       "      <td>0.278286</td>\n",
       "      <td>0.237397</td>\n",
       "      <td>0.181401</td>\n",
       "      <td>0.061419</td>\n",
       "      <td>0.016082</td>\n",
       "      <td>0.317390</td>\n",
       "      <td>1.000000</td>\n",
       "      <td>-0.130599</td>\n",
       "      <td>-0.622058</td>\n",
       "    </tr>\n",
       "    <tr>\n",
       "      <th>Field</th>\n",
       "      <td>-0.499316</td>\n",
       "      <td>-0.046854</td>\n",
       "      <td>-0.264208</td>\n",
       "      <td>-0.265620</td>\n",
       "      <td>-0.223887</td>\n",
       "      <td>-0.099077</td>\n",
       "      <td>-0.076202</td>\n",
       "      <td>-0.292313</td>\n",
       "      <td>-0.130599</td>\n",
       "      <td>1.000000</td>\n",
       "      <td>0.000778</td>\n",
       "    </tr>\n",
       "    <tr>\n",
       "      <th>yearsabs</th>\n",
       "      <td>-0.069630</td>\n",
       "      <td>0.132022</td>\n",
       "      <td>0.056113</td>\n",
       "      <td>0.035962</td>\n",
       "      <td>-0.167177</td>\n",
       "      <td>0.029447</td>\n",
       "      <td>-0.017792</td>\n",
       "      <td>0.030521</td>\n",
       "      <td>-0.622058</td>\n",
       "      <td>0.000778</td>\n",
       "      <td>1.000000</td>\n",
       "    </tr>\n",
       "  </tbody>\n",
       "</table>\n",
       "</div>"
      ],
      "text/plain": [
       "               salary   exprior  yearsworked  yearsrank    market    degree  \\\n",
       "exprior      0.119989  1.000000    -0.245788  -0.065893 -0.035202 -0.049165   \n",
       "yearsworked  0.623589 -0.245788     1.000000   0.813456 -0.070740  0.028122   \n",
       "yearsrank    0.610706 -0.065893     0.813456   1.000000 -0.026869  0.006347   \n",
       "market       0.407214 -0.035202    -0.070740  -0.026869  1.000000  0.036456   \n",
       "degree       0.044554 -0.049165     0.028122   0.006347  0.036456  1.000000   \n",
       "otherqual    0.167137  0.264655    -0.040157   0.007232  0.021641 -0.214654   \n",
       "position     0.702122  0.118031     0.746311   0.484891 -0.013116  0.043335   \n",
       "male         0.361564  0.047276     0.278286   0.237397  0.181401  0.061419   \n",
       "Field       -0.499316 -0.046854    -0.264208  -0.265620 -0.223887 -0.099077   \n",
       "yearsabs    -0.069630  0.132022     0.056113   0.035962 -0.167177  0.029447   \n",
       "\n",
       "             otherqual  position      male     Field  yearsabs  \n",
       "exprior       0.264655  0.118031  0.047276 -0.046854  0.132022  \n",
       "yearsworked  -0.040157  0.746311  0.278286 -0.264208  0.056113  \n",
       "yearsrank     0.007232  0.484891  0.237397 -0.265620  0.035962  \n",
       "market        0.021641 -0.013116  0.181401 -0.223887 -0.167177  \n",
       "degree       -0.214654  0.043335  0.061419 -0.099077  0.029447  \n",
       "otherqual     1.000000  0.160941  0.016082 -0.076202 -0.017792  \n",
       "position      0.160941  1.000000  0.317390 -0.292313  0.030521  \n",
       "male          0.016082  0.317390  1.000000 -0.130599 -0.622058  \n",
       "Field        -0.076202 -0.292313 -0.130599  1.000000  0.000778  \n",
       "yearsabs     -0.017792  0.030521 -0.622058  0.000778  1.000000  "
      ]
     },
     "execution_count": 13,
     "metadata": {},
     "output_type": "execute_result"
    }
   ],
   "source": [
    "corr_matrix= df.corr()\n",
    "corr_matrix.drop('salary')"
   ]
  },
  {
   "cell_type": "code",
   "execution_count": 14,
   "metadata": {},
   "outputs": [
    {
     "data": {
      "text/plain": [
       "<matplotlib.axes._subplots.AxesSubplot at 0x7f205634ceb8>"
      ]
     },
     "execution_count": 14,
     "metadata": {},
     "output_type": "execute_result"
    },
    {
     "data": {
      "image/png": "[encoded data removed]",
      "text/plain": [
       "<Figure size 432x288 with 2 Axes>"
      ]
     },
     "metadata": {
      "needs_background": "light"
     },
     "output_type": "display_data"
    }
   ],
   "source": [
    "sns.heatmap(corr_matrix)"
   ]
  },
  {
   "cell_type": "code",
   "execution_count": 15,
   "metadata": {},
   "outputs": [
    {
     "data": {
      "text/plain": [
       "salary         1.000000\n",
       "position       0.700417\n",
       "yearsworked    0.621150\n",
       "yearsrank      0.616485\n",
       "market         0.430704\n",
       "male           0.394322\n",
       "otherqual      0.163496\n",
       "exprior        0.142598\n",
       "degree         0.059293\n",
       "yearsabs      -0.077815\n",
       "Field         -0.517136\n",
       "Name: salary, dtype: float64"
      ]
     },
     "execution_count": 15,
     "metadata": {},
     "output_type": "execute_result"
    }
   ],
   "source": [
    "corr_matrix= train.corr()\n",
    "corr_matrix['salary'].sort_values(ascending=False)"
   ]
  },
  {
   "cell_type": "markdown",
   "metadata": {},
   "source": [
    "# Normalize\n",
    "Chose to normalize our data such that it is in roughly in the same range. \n"
   ]
  },
  {
   "cell_type": "code",
   "execution_count": 16,
   "metadata": {},
   "outputs": [],
   "source": [
    "\n",
    "def normalize(value, average, col_std):\n",
    "    x= (value- average)/col_std\n",
    "    return x\n"
   ]
  },
  {
   "cell_type": "code",
   "execution_count": 17,
   "metadata": {},
   "outputs": [],
   "source": [
    "X_train= train.iloc[:,1:]\n",
    "y_train= train['salary']\n",
    "\n",
    "X_test= test.iloc[:,1:]\n",
    "y_test= test['salary']\n"
   ]
  },
  {
   "cell_type": "code",
   "execution_count": 18,
   "metadata": {},
   "outputs": [
    {
     "data": {
      "text/html": [
       "<div>\n",
       "<style scoped>\n",
       "    .dataframe tbody tr th:only-of-type {\n",
       "        vertical-align: middle;\n",
       "    }\n",
       "\n",
       "    .dataframe tbody tr th {\n",
       "        vertical-align: top;\n",
       "    }\n",
       "\n",
       "    .dataframe thead th {\n",
       "        text-align: right;\n",
       "    }\n",
       "</style>\n",
       "<table border=\"1\" class=\"dataframe\">\n",
       "  <thead>\n",
       "    <tr style=\"text-align: right;\">\n",
       "      <th></th>\n",
       "      <th>exprior</th>\n",
       "      <th>yearsworked</th>\n",
       "      <th>yearsrank</th>\n",
       "      <th>market</th>\n",
       "      <th>degree</th>\n",
       "      <th>otherqual</th>\n",
       "      <th>position</th>\n",
       "      <th>male</th>\n",
       "      <th>Field</th>\n",
       "      <th>yearsabs</th>\n",
       "    </tr>\n",
       "  </thead>\n",
       "  <tbody>\n",
       "    <tr>\n",
       "      <th>316</th>\n",
       "      <td>23</td>\n",
       "      <td>3</td>\n",
       "      <td>3</td>\n",
       "      <td>1.00</td>\n",
       "      <td>1</td>\n",
       "      <td>0</td>\n",
       "      <td>3</td>\n",
       "      <td>1</td>\n",
       "      <td>2</td>\n",
       "      <td>0</td>\n",
       "    </tr>\n",
       "    <tr>\n",
       "      <th>419</th>\n",
       "      <td>0</td>\n",
       "      <td>6</td>\n",
       "      <td>4</td>\n",
       "      <td>0.79</td>\n",
       "      <td>1</td>\n",
       "      <td>0</td>\n",
       "      <td>1</td>\n",
       "      <td>0</td>\n",
       "      <td>2</td>\n",
       "      <td>1</td>\n",
       "    </tr>\n",
       "    <tr>\n",
       "      <th>194</th>\n",
       "      <td>0</td>\n",
       "      <td>20</td>\n",
       "      <td>5</td>\n",
       "      <td>0.82</td>\n",
       "      <td>1</td>\n",
       "      <td>0</td>\n",
       "      <td>2</td>\n",
       "      <td>1</td>\n",
       "      <td>4</td>\n",
       "      <td>1</td>\n",
       "    </tr>\n",
       "    <tr>\n",
       "      <th>267</th>\n",
       "      <td>0</td>\n",
       "      <td>24</td>\n",
       "      <td>8</td>\n",
       "      <td>0.92</td>\n",
       "      <td>1</td>\n",
       "      <td>0</td>\n",
       "      <td>3</td>\n",
       "      <td>1</td>\n",
       "      <td>3</td>\n",
       "      <td>0</td>\n",
       "    </tr>\n",
       "    <tr>\n",
       "      <th>262</th>\n",
       "      <td>0</td>\n",
       "      <td>25</td>\n",
       "      <td>9</td>\n",
       "      <td>0.85</td>\n",
       "      <td>1</td>\n",
       "      <td>0</td>\n",
       "      <td>3</td>\n",
       "      <td>1</td>\n",
       "      <td>2</td>\n",
       "      <td>1</td>\n",
       "    </tr>\n",
       "  </tbody>\n",
       "</table>\n",
       "</div>"
      ],
      "text/plain": [
       "     exprior  yearsworked  yearsrank  market  degree  otherqual  position  \\\n",
       "316       23            3          3    1.00       1          0         3   \n",
       "419        0            6          4    0.79       1          0         1   \n",
       "194        0           20          5    0.82       1          0         2   \n",
       "267        0           24          8    0.92       1          0         3   \n",
       "262        0           25          9    0.85       1          0         3   \n",
       "\n",
       "     male  Field  yearsabs  \n",
       "316     1      2         0  \n",
       "419     0      2         1  \n",
       "194     1      4         1  \n",
       "267     1      3         0  \n",
       "262     1      2         1  "
      ]
     },
     "execution_count": 18,
     "metadata": {},
     "output_type": "execute_result"
    }
   ],
   "source": [
    "X_train.head()"
   ]
  },
  {
   "cell_type": "markdown",
   "metadata": {},
   "source": [
    "## 2. One-hot encode the variable Field into three dummy variables, using HR as the reference category. "
   ]
  },
  {
   "cell_type": "markdown",
   "metadata": {},
   "source": [
    "## Get dummy variables\n",
    "Since we have categorical features, in order to feed them to our machine learning algorithm, we make dummy variables, containing 1 where the observation is True and 0 otherwise."
   ]
  },
  {
   "cell_type": "code",
   "execution_count": 19,
   "metadata": {},
   "outputs": [],
   "source": [
    "X_train= pd.get_dummies(X_train, columns=['position', 'Field'], drop_first=True)\n",
    "X_test= pd.get_dummies(X_test, columns=['position', 'Field'], drop_first=True)"
   ]
  },
  {
   "cell_type": "code",
   "execution_count": 20,
   "metadata": {},
   "outputs": [
    {
     "data": {
      "text/html": [
       "<div>\n",
       "<style scoped>\n",
       "    .dataframe tbody tr th:only-of-type {\n",
       "        vertical-align: middle;\n",
       "    }\n",
       "\n",
       "    .dataframe tbody tr th {\n",
       "        vertical-align: top;\n",
       "    }\n",
       "\n",
       "    .dataframe thead th {\n",
       "        text-align: right;\n",
       "    }\n",
       "</style>\n",
       "<table border=\"1\" class=\"dataframe\">\n",
       "  <thead>\n",
       "    <tr style=\"text-align: right;\">\n",
       "      <th></th>\n",
       "      <th>exprior</th>\n",
       "      <th>yearsworked</th>\n",
       "      <th>yearsrank</th>\n",
       "      <th>market</th>\n",
       "      <th>degree</th>\n",
       "      <th>otherqual</th>\n",
       "      <th>male</th>\n",
       "      <th>yearsabs</th>\n",
       "      <th>position_2</th>\n",
       "      <th>position_3</th>\n",
       "      <th>Field_2</th>\n",
       "      <th>Field_3</th>\n",
       "      <th>Field_4</th>\n",
       "    </tr>\n",
       "  </thead>\n",
       "  <tbody>\n",
       "    <tr>\n",
       "      <th>316</th>\n",
       "      <td>23</td>\n",
       "      <td>3</td>\n",
       "      <td>3</td>\n",
       "      <td>1.00</td>\n",
       "      <td>1</td>\n",
       "      <td>0</td>\n",
       "      <td>1</td>\n",
       "      <td>0</td>\n",
       "      <td>0</td>\n",
       "      <td>1</td>\n",
       "      <td>1</td>\n",
       "      <td>0</td>\n",
       "      <td>0</td>\n",
       "    </tr>\n",
       "    <tr>\n",
       "      <th>419</th>\n",
       "      <td>0</td>\n",
       "      <td>6</td>\n",
       "      <td>4</td>\n",
       "      <td>0.79</td>\n",
       "      <td>1</td>\n",
       "      <td>0</td>\n",
       "      <td>0</td>\n",
       "      <td>1</td>\n",
       "      <td>0</td>\n",
       "      <td>0</td>\n",
       "      <td>1</td>\n",
       "      <td>0</td>\n",
       "      <td>0</td>\n",
       "    </tr>\n",
       "    <tr>\n",
       "      <th>194</th>\n",
       "      <td>0</td>\n",
       "      <td>20</td>\n",
       "      <td>5</td>\n",
       "      <td>0.82</td>\n",
       "      <td>1</td>\n",
       "      <td>0</td>\n",
       "      <td>1</td>\n",
       "      <td>1</td>\n",
       "      <td>1</td>\n",
       "      <td>0</td>\n",
       "      <td>0</td>\n",
       "      <td>0</td>\n",
       "      <td>1</td>\n",
       "    </tr>\n",
       "    <tr>\n",
       "      <th>267</th>\n",
       "      <td>0</td>\n",
       "      <td>24</td>\n",
       "      <td>8</td>\n",
       "      <td>0.92</td>\n",
       "      <td>1</td>\n",
       "      <td>0</td>\n",
       "      <td>1</td>\n",
       "      <td>0</td>\n",
       "      <td>0</td>\n",
       "      <td>1</td>\n",
       "      <td>0</td>\n",
       "      <td>1</td>\n",
       "      <td>0</td>\n",
       "    </tr>\n",
       "    <tr>\n",
       "      <th>262</th>\n",
       "      <td>0</td>\n",
       "      <td>25</td>\n",
       "      <td>9</td>\n",
       "      <td>0.85</td>\n",
       "      <td>1</td>\n",
       "      <td>0</td>\n",
       "      <td>1</td>\n",
       "      <td>1</td>\n",
       "      <td>0</td>\n",
       "      <td>1</td>\n",
       "      <td>1</td>\n",
       "      <td>0</td>\n",
       "      <td>0</td>\n",
       "    </tr>\n",
       "  </tbody>\n",
       "</table>\n",
       "</div>"
      ],
      "text/plain": [
       "     exprior  yearsworked  yearsrank  market  degree  otherqual  male  \\\n",
       "316       23            3          3    1.00       1          0     1   \n",
       "419        0            6          4    0.79       1          0     0   \n",
       "194        0           20          5    0.82       1          0     1   \n",
       "267        0           24          8    0.92       1          0     1   \n",
       "262        0           25          9    0.85       1          0     1   \n",
       "\n",
       "     yearsabs  position_2  position_3  Field_2  Field_3  Field_4  \n",
       "316         0           0           1        1        0        0  \n",
       "419         1           0           0        1        0        0  \n",
       "194         1           1           0        0        0        1  \n",
       "267         0           0           1        0        1        0  \n",
       "262         1           0           1        1        0        0  "
      ]
     },
     "execution_count": 20,
     "metadata": {},
     "output_type": "execute_result"
    }
   ],
   "source": [
    "X_train.head()\n"
   ]
  },
  {
   "cell_type": "code",
   "execution_count": 21,
   "metadata": {},
   "outputs": [
    {
     "data": {
      "text/plain": [
       "salary         1.000000\n",
       "position_3     0.674231\n",
       "yearsworked    0.621150\n",
       "yearsrank      0.616485\n",
       "market         0.430704\n",
       "male           0.394322\n",
       "Field_2        0.242532\n",
       "otherqual      0.163496\n",
       "exprior        0.142598\n",
       "degree         0.059293\n",
       "yearsabs      -0.077815\n",
       "position_2    -0.198122\n",
       "Field_4       -0.241528\n",
       "Field_3       -0.450296\n",
       "Name: salary, dtype: float64"
      ]
     },
     "execution_count": 21,
     "metadata": {},
     "output_type": "execute_result"
    }
   ],
   "source": [
    "train_dummy= pd.concat( [y_train,X_train ], axis=1)\n",
    "new_corr= train_dummy.corr()\n",
    "\n",
    "new_corr['salary'].sort_values(ascending=False)"
   ]
  },
  {
   "cell_type": "markdown",
   "metadata": {},
   "source": [
    "# Feature Selection\n",
    "Select features using a wrapper method. We use backward elimination."
   ]
  },
  {
   "cell_type": "code",
   "execution_count": 22,
   "metadata": {},
   "outputs": [
    {
     "name": "stderr",
     "output_type": "stream",
     "text": [
      "/home/masai/.local/lib/python3.7/site-packages/numpy/core/fromnumeric.py:2542: FutureWarning: Method .ptp is deprecated and will be removed in a future version. Use numpy.ptp instead.\n",
      "  return ptp(axis=axis, out=out, **kwargs)\n"
     ]
    },
    {
     "data": {
      "text/html": [
       "<table class=\"simpletable\">\n",
       "<caption>OLS Regression Results</caption>\n",
       "<tr>\n",
       "  <th>Dep. Variable:</th>         <td>salary</td>      <th>  R-squared:         </th> <td>   0.823</td> \n",
       "</tr>\n",
       "<tr>\n",
       "  <th>Model:</th>                   <td>OLS</td>       <th>  Adj. R-squared:    </th> <td>   0.819</td> \n",
       "</tr>\n",
       "<tr>\n",
       "  <th>Method:</th>             <td>Least Squares</td>  <th>  F-statistic:       </th> <td>   193.0</td> \n",
       "</tr>\n",
       "<tr>\n",
       "  <th>Date:</th>             <td>Tue, 26 May 2020</td> <th>  Prob (F-statistic):</th> <td>1.18e-134</td>\n",
       "</tr>\n",
       "<tr>\n",
       "  <th>Time:</th>                 <td>12:08:40</td>     <th>  Log-Likelihood:    </th> <td> -3845.1</td> \n",
       "</tr>\n",
       "<tr>\n",
       "  <th>No. Observations:</th>      <td>   384</td>      <th>  AIC:               </th> <td>   7710.</td> \n",
       "</tr>\n",
       "<tr>\n",
       "  <th>Df Residuals:</th>          <td>   374</td>      <th>  BIC:               </th> <td>   7750.</td> \n",
       "</tr>\n",
       "<tr>\n",
       "  <th>Df Model:</th>              <td>     9</td>      <th>                     </th>     <td> </td>    \n",
       "</tr>\n",
       "<tr>\n",
       "  <th>Covariance Type:</th>      <td>nonrobust</td>    <th>                     </th>     <td> </td>    \n",
       "</tr>\n",
       "</table>\n",
       "<table class=\"simpletable\">\n",
       "<tr>\n",
       "       <td></td>         <th>coef</th>     <th>std err</th>      <th>t</th>      <th>P>|t|</th>  <th>[0.025</th>    <th>0.975]</th>  \n",
       "</tr>\n",
       "<tr>\n",
       "  <th>const</th>      <td> 1.322e+04</td> <td> 2294.314</td> <td>    5.762</td> <td> 0.000</td> <td> 8708.044</td> <td> 1.77e+04</td>\n",
       "</tr>\n",
       "<tr>\n",
       "  <th>exprior</th>    <td>  264.6635</td> <td>   61.207</td> <td>    4.324</td> <td> 0.000</td> <td>  144.311</td> <td>  385.016</td>\n",
       "</tr>\n",
       "<tr>\n",
       "  <th>yearsrank</th>  <td>  675.0913</td> <td>   51.495</td> <td>   13.110</td> <td> 0.000</td> <td>  573.834</td> <td>  776.348</td>\n",
       "</tr>\n",
       "<tr>\n",
       "  <th>market</th>     <td> 3.011e+04</td> <td> 1991.606</td> <td>   15.118</td> <td> 0.000</td> <td> 2.62e+04</td> <td>  3.4e+04</td>\n",
       "</tr>\n",
       "<tr>\n",
       "  <th>yearsabs</th>   <td>  -37.1157</td> <td>   17.624</td> <td>   -2.106</td> <td> 0.036</td> <td>  -71.771</td> <td>   -2.461</td>\n",
       "</tr>\n",
       "<tr>\n",
       "  <th>position_2</th> <td> 4868.7802</td> <td>  760.623</td> <td>    6.401</td> <td> 0.000</td> <td> 3373.147</td> <td> 6364.413</td>\n",
       "</tr>\n",
       "<tr>\n",
       "  <th>position_3</th> <td> 1.373e+04</td> <td>  831.408</td> <td>   16.511</td> <td> 0.000</td> <td> 1.21e+04</td> <td> 1.54e+04</td>\n",
       "</tr>\n",
       "<tr>\n",
       "  <th>Field_2</th>    <td>-2306.6874</td> <td>  787.401</td> <td>   -2.929</td> <td> 0.004</td> <td>-3854.976</td> <td> -758.399</td>\n",
       "</tr>\n",
       "<tr>\n",
       "  <th>Field_3</th>    <td>-6221.6014</td> <td>  950.645</td> <td>   -6.545</td> <td> 0.000</td> <td>-8090.880</td> <td>-4352.322</td>\n",
       "</tr>\n",
       "<tr>\n",
       "  <th>Field_4</th>    <td>-5840.3962</td> <td>  836.481</td> <td>   -6.982</td> <td> 0.000</td> <td>-7485.191</td> <td>-4195.601</td>\n",
       "</tr>\n",
       "</table>\n",
       "<table class=\"simpletable\">\n",
       "<tr>\n",
       "  <th>Omnibus:</th>       <td>27.991</td> <th>  Durbin-Watson:     </th> <td>   2.142</td>\n",
       "</tr>\n",
       "<tr>\n",
       "  <th>Prob(Omnibus):</th> <td> 0.000</td> <th>  Jarque-Bera (JB):  </th> <td>  44.664</td>\n",
       "</tr>\n",
       "<tr>\n",
       "  <th>Skew:</th>          <td> 0.493</td> <th>  Prob(JB):          </th> <td>2.00e-10</td>\n",
       "</tr>\n",
       "<tr>\n",
       "  <th>Kurtosis:</th>      <td> 4.348</td> <th>  Cond. No.          </th> <td>    199.</td>\n",
       "</tr>\n",
       "</table><br/><br/>Warnings:<br/>[1] Standard Errors assume that the covariance matrix of the errors is correctly specified."
      ],
      "text/plain": [
       "<class 'statsmodels.iolib.summary.Summary'>\n",
       "\"\"\"\n",
       "                            OLS Regression Results                            \n",
       "==============================================================================\n",
       "Dep. Variable:                 salary   R-squared:                       0.823\n",
       "Model:                            OLS   Adj. R-squared:                  0.819\n",
       "Method:                 Least Squares   F-statistic:                     193.0\n",
       "Date:                Tue, 26 May 2020   Prob (F-statistic):          1.18e-134\n",
       "Time:                        12:08:40   Log-Likelihood:                -3845.1\n",
       "No. Observations:                 384   AIC:                             7710.\n",
       "Df Residuals:                     374   BIC:                             7750.\n",
       "Df Model:                           9                                         \n",
       "Covariance Type:            nonrobust                                         \n",
       "==============================================================================\n",
       "                 coef    std err          t      P>|t|      [0.025      0.975]\n",
       "------------------------------------------------------------------------------\n",
       "const       1.322e+04   2294.314      5.762      0.000    8708.044    1.77e+04\n",
       "exprior      264.6635     61.207      4.324      0.000     144.311     385.016\n",
       "yearsrank    675.0913     51.495     13.110      0.000     573.834     776.348\n",
       "market      3.011e+04   1991.606     15.118      0.000    2.62e+04     3.4e+04\n",
       "yearsabs     -37.1157     17.624     -2.106      0.036     -71.771      -2.461\n",
       "position_2  4868.7802    760.623      6.401      0.000    3373.147    6364.413\n",
       "position_3  1.373e+04    831.408     16.511      0.000    1.21e+04    1.54e+04\n",
       "Field_2    -2306.6874    787.401     -2.929      0.004   -3854.976    -758.399\n",
       "Field_3    -6221.6014    950.645     -6.545      0.000   -8090.880   -4352.322\n",
       "Field_4    -5840.3962    836.481     -6.982      0.000   -7485.191   -4195.601\n",
       "==============================================================================\n",
       "Omnibus:                       27.991   Durbin-Watson:                   2.142\n",
       "Prob(Omnibus):                  0.000   Jarque-Bera (JB):               44.664\n",
       "Skew:                           0.493   Prob(JB):                     2.00e-10\n",
       "Kurtosis:                       4.348   Cond. No.                         199.\n",
       "==============================================================================\n",
       "\n",
       "Warnings:\n",
       "[1] Standard Errors assume that the covariance matrix of the errors is correctly specified.\n",
       "\"\"\""
      ]
     },
     "execution_count": 22,
     "metadata": {},
     "output_type": "execute_result"
    }
   ],
   "source": [
    "cols = list(X_train.columns)\n",
    "pmax = 1\n",
    "while (len(cols)>0):\n",
    "    #X_1 =remaining columns\n",
    "    X_1 = X_train[cols]\n",
    "    X_1 = sm.add_constant(X_1)\n",
    "    model = sm.OLS(y_train,X_1).fit()\n",
    "    #statistical significance for each feature\n",
    "    p = pd.Series(model.pvalues.values[1:],index = cols)\n",
    "    #the feature with the highest p-value\n",
    "    pmax = max(p)\n",
    "    feature_with_p_max = p.idxmax()\n",
    "    if(pmax>0.05):\n",
    "        #remove statistically insignificant feature. anything above 5%\n",
    "        cols.remove(feature_with_p_max)\n",
    "    else:\n",
    "        break\n",
    "best_features = cols\n",
    "\n",
    "model.summary()"
   ]
  },
  {
   "cell_type": "markdown",
   "metadata": {},
   "source": [
    "## Check for multicollinearity\n",
    "In order to check for multicollinearity between our features, we applied a Variance Inflation Factor. \n",
    "\n",
    "Values which have a VIF above 5 indicate that there may be multicollinearity and a VIF score of above 10 show that there is certainly mutlicollinearity.\n",
    "\n",
    "VIF= 1/T\n",
    "\n",
    "where T is Tolerance\n",
    "T= 1- R^2"
   ]
  },
  {
   "cell_type": "code",
   "execution_count": 23,
   "metadata": {
    "scrolled": true
   },
   "outputs": [
    {
     "data": {
      "text/plain": [
       "const         67.491446\n",
       "exprior        1.058576\n",
       "yearsrank      1.433054\n",
       "market         1.193449\n",
       "yearsabs       1.081767\n",
       "position_2     1.600884\n",
       "position_3     2.146222\n",
       "Field_2        1.540922\n",
       "Field_3        1.980239\n",
       "Field_4        1.760904\n",
       "dtype: float64"
      ]
     },
     "execution_count": 23,
     "metadata": {},
     "output_type": "execute_result"
    }
   ],
   "source": [
    "#VIF \n",
    "from statsmodels.stats.outliers_influence import variance_inflation_factor\n",
    "X_train= X_train[best_features]\n",
    "X_test= X_test[best_features]\n",
    "X_train= sm.add_constant(X_train)\n",
    "pd.Series([variance_inflation_factor(X_train.values, i) \n",
    "          for i in range(X_train.shape[1])],\n",
    "         index=X_train.columns)"
   ]
  },
  {
   "cell_type": "markdown",
   "metadata": {},
   "source": [
    "No strange Variance Inflaction factor is seen."
   ]
  },
  {
   "cell_type": "code",
   "execution_count": 24,
   "metadata": {},
   "outputs": [
    {
     "data": {
      "text/html": [
       "<table class=\"simpletable\">\n",
       "<caption>OLS Regression Results</caption>\n",
       "<tr>\n",
       "  <th>Dep. Variable:</th>         <td>salary</td>      <th>  R-squared:         </th> <td>   0.823</td> \n",
       "</tr>\n",
       "<tr>\n",
       "  <th>Model:</th>                   <td>OLS</td>       <th>  Adj. R-squared:    </th> <td>   0.819</td> \n",
       "</tr>\n",
       "<tr>\n",
       "  <th>Method:</th>             <td>Least Squares</td>  <th>  F-statistic:       </th> <td>   193.0</td> \n",
       "</tr>\n",
       "<tr>\n",
       "  <th>Date:</th>             <td>Tue, 26 May 2020</td> <th>  Prob (F-statistic):</th> <td>1.18e-134</td>\n",
       "</tr>\n",
       "<tr>\n",
       "  <th>Time:</th>                 <td>12:08:40</td>     <th>  Log-Likelihood:    </th> <td> -3845.1</td> \n",
       "</tr>\n",
       "<tr>\n",
       "  <th>No. Observations:</th>      <td>   384</td>      <th>  AIC:               </th> <td>   7710.</td> \n",
       "</tr>\n",
       "<tr>\n",
       "  <th>Df Residuals:</th>          <td>   374</td>      <th>  BIC:               </th> <td>   7750.</td> \n",
       "</tr>\n",
       "<tr>\n",
       "  <th>Df Model:</th>              <td>     9</td>      <th>                     </th>     <td> </td>    \n",
       "</tr>\n",
       "<tr>\n",
       "  <th>Covariance Type:</th>      <td>nonrobust</td>    <th>                     </th>     <td> </td>    \n",
       "</tr>\n",
       "</table>\n",
       "<table class=\"simpletable\">\n",
       "<tr>\n",
       "       <td></td>         <th>coef</th>     <th>std err</th>      <th>t</th>      <th>P>|t|</th>  <th>[0.025</th>    <th>0.975]</th>  \n",
       "</tr>\n",
       "<tr>\n",
       "  <th>const</th>      <td> 1.322e+04</td> <td> 2294.314</td> <td>    5.762</td> <td> 0.000</td> <td> 8708.044</td> <td> 1.77e+04</td>\n",
       "</tr>\n",
       "<tr>\n",
       "  <th>exprior</th>    <td>  264.6635</td> <td>   61.207</td> <td>    4.324</td> <td> 0.000</td> <td>  144.311</td> <td>  385.016</td>\n",
       "</tr>\n",
       "<tr>\n",
       "  <th>yearsrank</th>  <td>  675.0913</td> <td>   51.495</td> <td>   13.110</td> <td> 0.000</td> <td>  573.834</td> <td>  776.348</td>\n",
       "</tr>\n",
       "<tr>\n",
       "  <th>market</th>     <td> 3.011e+04</td> <td> 1991.606</td> <td>   15.118</td> <td> 0.000</td> <td> 2.62e+04</td> <td>  3.4e+04</td>\n",
       "</tr>\n",
       "<tr>\n",
       "  <th>yearsabs</th>   <td>  -37.1157</td> <td>   17.624</td> <td>   -2.106</td> <td> 0.036</td> <td>  -71.771</td> <td>   -2.461</td>\n",
       "</tr>\n",
       "<tr>\n",
       "  <th>position_2</th> <td> 4868.7802</td> <td>  760.623</td> <td>    6.401</td> <td> 0.000</td> <td> 3373.147</td> <td> 6364.413</td>\n",
       "</tr>\n",
       "<tr>\n",
       "  <th>position_3</th> <td> 1.373e+04</td> <td>  831.408</td> <td>   16.511</td> <td> 0.000</td> <td> 1.21e+04</td> <td> 1.54e+04</td>\n",
       "</tr>\n",
       "<tr>\n",
       "  <th>Field_2</th>    <td>-2306.6874</td> <td>  787.401</td> <td>   -2.929</td> <td> 0.004</td> <td>-3854.976</td> <td> -758.399</td>\n",
       "</tr>\n",
       "<tr>\n",
       "  <th>Field_3</th>    <td>-6221.6014</td> <td>  950.645</td> <td>   -6.545</td> <td> 0.000</td> <td>-8090.880</td> <td>-4352.322</td>\n",
       "</tr>\n",
       "<tr>\n",
       "  <th>Field_4</th>    <td>-5840.3962</td> <td>  836.481</td> <td>   -6.982</td> <td> 0.000</td> <td>-7485.191</td> <td>-4195.601</td>\n",
       "</tr>\n",
       "</table>\n",
       "<table class=\"simpletable\">\n",
       "<tr>\n",
       "  <th>Omnibus:</th>       <td>27.991</td> <th>  Durbin-Watson:     </th> <td>   2.142</td>\n",
       "</tr>\n",
       "<tr>\n",
       "  <th>Prob(Omnibus):</th> <td> 0.000</td> <th>  Jarque-Bera (JB):  </th> <td>  44.664</td>\n",
       "</tr>\n",
       "<tr>\n",
       "  <th>Skew:</th>          <td> 0.493</td> <th>  Prob(JB):          </th> <td>2.00e-10</td>\n",
       "</tr>\n",
       "<tr>\n",
       "  <th>Kurtosis:</th>      <td> 4.348</td> <th>  Cond. No.          </th> <td>    199.</td>\n",
       "</tr>\n",
       "</table><br/><br/>Warnings:<br/>[1] Standard Errors assume that the covariance matrix of the errors is correctly specified."
      ],
      "text/plain": [
       "<class 'statsmodels.iolib.summary.Summary'>\n",
       "\"\"\"\n",
       "                            OLS Regression Results                            \n",
       "==============================================================================\n",
       "Dep. Variable:                 salary   R-squared:                       0.823\n",
       "Model:                            OLS   Adj. R-squared:                  0.819\n",
       "Method:                 Least Squares   F-statistic:                     193.0\n",
       "Date:                Tue, 26 May 2020   Prob (F-statistic):          1.18e-134\n",
       "Time:                        12:08:40   Log-Likelihood:                -3845.1\n",
       "No. Observations:                 384   AIC:                             7710.\n",
       "Df Residuals:                     374   BIC:                             7750.\n",
       "Df Model:                           9                                         \n",
       "Covariance Type:            nonrobust                                         \n",
       "==============================================================================\n",
       "                 coef    std err          t      P>|t|      [0.025      0.975]\n",
       "------------------------------------------------------------------------------\n",
       "const       1.322e+04   2294.314      5.762      0.000    8708.044    1.77e+04\n",
       "exprior      264.6635     61.207      4.324      0.000     144.311     385.016\n",
       "yearsrank    675.0913     51.495     13.110      0.000     573.834     776.348\n",
       "market      3.011e+04   1991.606     15.118      0.000    2.62e+04     3.4e+04\n",
       "yearsabs     -37.1157     17.624     -2.106      0.036     -71.771      -2.461\n",
       "position_2  4868.7802    760.623      6.401      0.000    3373.147    6364.413\n",
       "position_3  1.373e+04    831.408     16.511      0.000    1.21e+04    1.54e+04\n",
       "Field_2    -2306.6874    787.401     -2.929      0.004   -3854.976    -758.399\n",
       "Field_3    -6221.6014    950.645     -6.545      0.000   -8090.880   -4352.322\n",
       "Field_4    -5840.3962    836.481     -6.982      0.000   -7485.191   -4195.601\n",
       "==============================================================================\n",
       "Omnibus:                       27.991   Durbin-Watson:                   2.142\n",
       "Prob(Omnibus):                  0.000   Jarque-Bera (JB):               44.664\n",
       "Skew:                           0.493   Prob(JB):                     2.00e-10\n",
       "Kurtosis:                       4.348   Cond. No.                         199.\n",
       "==============================================================================\n",
       "\n",
       "Warnings:\n",
       "[1] Standard Errors assume that the covariance matrix of the errors is correctly specified.\n",
       "\"\"\""
      ]
     },
     "execution_count": 24,
     "metadata": {},
     "output_type": "execute_result"
    }
   ],
   "source": [
    "\n",
    "model= sm.OLS(y_train, X_train).fit()\n",
    "model.summary()"
   ]
  },
  {
   "cell_type": "markdown",
   "metadata": {},
   "source": [
    "# Autocorrelation\n",
    "Our model shows that we have no sign of autocorrelation. This is observed by looking at the Durbin-Watson test performed which is eqaual to 2. \n",
    "The Durbin-Watson test outputs a value ranging from 0 to 4. \n",
    "* The closer to 0 the statistic, the more evidence for positive serial correlation.\n",
    "* The closer to 4, the more evidence for negative serial correlation.\n",
    "* Values closer to 2 indicate no serial correlation.\n"
   ]
  },
  {
   "cell_type": "markdown",
   "metadata": {},
   "source": [
    "## most important features"
   ]
  },
  {
   "cell_type": "code",
   "execution_count": 25,
   "metadata": {},
   "outputs": [
    {
     "data": {
      "text/plain": [
       "market        30109.114122\n",
       "position_3    13727.637066\n",
       "const         13219.416888\n",
       "position_2     4868.780164\n",
       "yearsrank       675.091279\n",
       "exprior         264.663450\n",
       "yearsabs        -37.115665\n",
       "Field_2       -2306.687387\n",
       "Field_4       -5840.396160\n",
       "Field_3       -6221.601365\n",
       "dtype: float64"
      ]
     },
     "execution_count": 25,
     "metadata": {},
     "output_type": "execute_result"
    }
   ],
   "source": [
    "model.params.sort_values(ascending=False)"
   ]
  },
  {
   "cell_type": "markdown",
   "metadata": {},
   "source": [
    "We see that our most important features for predicting salary are listed above in descending order."
   ]
  },
  {
   "cell_type": "markdown",
   "metadata": {},
   "source": [
    "## 5. standardised residuals and standardised predicted values\n"
   ]
  },
  {
   "cell_type": "code",
   "execution_count": 26,
   "metadata": {},
   "outputs": [],
   "source": [
    "#get residuals and fitted values from the model\n",
    "resids= model.resid\n",
    "fitted= model.fittedvalues\n",
    "\n",
    "#normalize residuals\n",
    "resids_range= resids.max()- resids.min()\n",
    "resids_std= resids.std()\n",
    "resids_avg= resids.mean()\n",
    "b= resids.apply(normalize, args=(resids_avg, resids_std))\n",
    "resids=b\n",
    "\n",
    "#normalize the fitted values\n",
    "fitted_range= fitted.max()- fitted.min()\n",
    "fitted_std= fitted.std()\n",
    "fitted_avg= fitted.mean()\n",
    "b= fitted.apply(normalize, args=(fitted_avg, fitted_std))\n",
    "fitted=b\n"
   ]
  },
  {
   "cell_type": "markdown",
   "metadata": {},
   "source": [
    "## 6. plot resduals versus predicted"
   ]
  },
  {
   "cell_type": "code",
   "execution_count": 27,
   "metadata": {},
   "outputs": [
    {
     "data": {
      "text/plain": [
       "<matplotlib.axes._subplots.AxesSubplot at 0x7f20566d39b0>"
      ]
     },
     "execution_count": 27,
     "metadata": {},
     "output_type": "execute_result"
    },
    {
     "data": {
      "image/png": "[encoded data removed]",
      "text/plain": [
       "<Figure size 432x288 with 1 Axes>"
      ]
     },
     "metadata": {
      "needs_background": "light"
     },
     "output_type": "display_data"
    }
   ],
   "source": [
    "sns.residplot(fitted, resids, lowess=True, color='green')"
   ]
  },
  {
   "cell_type": "code",
   "execution_count": 28,
   "metadata": {},
   "outputs": [
    {
     "data": {
      "text/plain": [
       "0"
      ]
     },
     "execution_count": 28,
     "metadata": {},
     "output_type": "execute_result"
    }
   ],
   "source": [
    "round(sum(resids))"
   ]
  },
  {
   "cell_type": "markdown",
   "metadata": {},
   "source": [
    "Our residuals are normally distributed and the sum of our residuals is zero. This gives us no indication that the assumptions of our model are False."
   ]
  },
  {
   "cell_type": "markdown",
   "metadata": {},
   "source": [
    "## 7. Running the model on the test"
   ]
  },
  {
   "cell_type": "code",
   "execution_count": 29,
   "metadata": {},
   "outputs": [],
   "source": [
    "X_test= sm.add_constant(X_test)\n",
    "preds= model.predict(X_test)\n",
    "train_preds= model.predict(X_train)"
   ]
  },
  {
   "cell_type": "code",
   "execution_count": 30,
   "metadata": {},
   "outputs": [
    {
     "name": "stdout",
     "output_type": "stream",
     "text": [
      "train rmse: 5400.877964875525\n",
      "test rmse: 5639.976337309236\n",
      "difference between train and test: 239.09837243371112\n"
     ]
    }
   ],
   "source": [
    "from statsmodels.tools.eval_measures import rmse\n",
    "model_rmse= rmse(y_test, preds)\n",
    "rmse_train= rmse(y_train, train_preds)\n",
    "\n",
    "\n",
    "print(f'train rmse: {rmse_train}')\n",
    "print(f'test rmse: {model_rmse}')\n",
    "print(f'difference between train and test: {model_rmse- rmse_train}')"
   ]
  },
  {
   "cell_type": "markdown",
   "metadata": {},
   "source": [
    "Our model is performing better on the training set compared to our test set. This means that our model is slightly underfitting on our training data.\n",
    "\n",
    "Overall, it seems like a really good model to work with. It does not violate any of the linear regression assumptions, namely:\n",
    "* Linear relationship\n",
    "* Multivariate normality\n",
    "* No or little multicollinearity\n",
    "* No auto-correlation\n",
    "* Homoscedasticity"
   ]
  },
  {
   "cell_type": "markdown",
   "metadata": {},
   "source": [
    "# Conclusion\n"
   ]
  },
  {
   "cell_type": "markdown",
   "metadata": {},
   "source": [
    "After analysing our data, we then created our ideal linear model using a backward elimination which is a wrapper method. It took more computing power, but it gave us the best features for our modelling. \n",
    "\n",
    "Interestingly, years worked is not one of the best features to predict how much someone earns. This is because years worked is highly correlated to other features. Our top 3 features were:\n",
    "1. market\n",
    "2. Position\n",
    "3. Field\n",
    "\n",
    "We can trust this model to make good predictions most of the time. It is not watertight."
   ]
  },
  {
   "cell_type": "markdown",
   "metadata": {},
   "source": [
    "## Log scaler\n"
   ]
  },
  {
   "cell_type": "code",
   "execution_count": 31,
   "metadata": {},
   "outputs": [
    {
     "data": {
      "text/html": [
       "<table class=\"simpletable\">\n",
       "<caption>OLS Regression Results</caption>\n",
       "<tr>\n",
       "  <th>Dep. Variable:</th>         <td>salary</td>      <th>  R-squared:         </th> <td>   0.823</td> \n",
       "</tr>\n",
       "<tr>\n",
       "  <th>Model:</th>                   <td>OLS</td>       <th>  Adj. R-squared:    </th> <td>   0.819</td> \n",
       "</tr>\n",
       "<tr>\n",
       "  <th>Method:</th>             <td>Least Squares</td>  <th>  F-statistic:       </th> <td>   193.0</td> \n",
       "</tr>\n",
       "<tr>\n",
       "  <th>Date:</th>             <td>Tue, 26 May 2020</td> <th>  Prob (F-statistic):</th> <td>1.18e-134</td>\n",
       "</tr>\n",
       "<tr>\n",
       "  <th>Time:</th>                 <td>12:08:41</td>     <th>  Log-Likelihood:    </th> <td> -3845.1</td> \n",
       "</tr>\n",
       "<tr>\n",
       "  <th>No. Observations:</th>      <td>   384</td>      <th>  AIC:               </th> <td>   7710.</td> \n",
       "</tr>\n",
       "<tr>\n",
       "  <th>Df Residuals:</th>          <td>   374</td>      <th>  BIC:               </th> <td>   7750.</td> \n",
       "</tr>\n",
       "<tr>\n",
       "  <th>Df Model:</th>              <td>     9</td>      <th>                     </th>     <td> </td>    \n",
       "</tr>\n",
       "<tr>\n",
       "  <th>Covariance Type:</th>      <td>nonrobust</td>    <th>                     </th>     <td> </td>    \n",
       "</tr>\n",
       "</table>\n",
       "<table class=\"simpletable\">\n",
       "<tr>\n",
       "       <td></td>         <th>coef</th>     <th>std err</th>      <th>t</th>      <th>P>|t|</th>  <th>[0.025</th>    <th>0.975]</th>  \n",
       "</tr>\n",
       "<tr>\n",
       "  <th>const</th>      <td> 1.322e+04</td> <td> 2294.314</td> <td>    5.762</td> <td> 0.000</td> <td> 8708.044</td> <td> 1.77e+04</td>\n",
       "</tr>\n",
       "<tr>\n",
       "  <th>exprior</th>    <td>  264.6635</td> <td>   61.207</td> <td>    4.324</td> <td> 0.000</td> <td>  144.311</td> <td>  385.016</td>\n",
       "</tr>\n",
       "<tr>\n",
       "  <th>yearsrank</th>  <td>  675.0913</td> <td>   51.495</td> <td>   13.110</td> <td> 0.000</td> <td>  573.834</td> <td>  776.348</td>\n",
       "</tr>\n",
       "<tr>\n",
       "  <th>market</th>     <td> 3.011e+04</td> <td> 1991.606</td> <td>   15.118</td> <td> 0.000</td> <td> 2.62e+04</td> <td>  3.4e+04</td>\n",
       "</tr>\n",
       "<tr>\n",
       "  <th>yearsabs</th>   <td>  -37.1157</td> <td>   17.624</td> <td>   -2.106</td> <td> 0.036</td> <td>  -71.771</td> <td>   -2.461</td>\n",
       "</tr>\n",
       "<tr>\n",
       "  <th>position_2</th> <td> 4868.7802</td> <td>  760.623</td> <td>    6.401</td> <td> 0.000</td> <td> 3373.147</td> <td> 6364.413</td>\n",
       "</tr>\n",
       "<tr>\n",
       "  <th>position_3</th> <td> 1.373e+04</td> <td>  831.408</td> <td>   16.511</td> <td> 0.000</td> <td> 1.21e+04</td> <td> 1.54e+04</td>\n",
       "</tr>\n",
       "<tr>\n",
       "  <th>Field_2</th>    <td>-2306.6874</td> <td>  787.401</td> <td>   -2.929</td> <td> 0.004</td> <td>-3854.976</td> <td> -758.399</td>\n",
       "</tr>\n",
       "<tr>\n",
       "  <th>Field_3</th>    <td>-6221.6014</td> <td>  950.645</td> <td>   -6.545</td> <td> 0.000</td> <td>-8090.880</td> <td>-4352.322</td>\n",
       "</tr>\n",
       "<tr>\n",
       "  <th>Field_4</th>    <td>-5840.3962</td> <td>  836.481</td> <td>   -6.982</td> <td> 0.000</td> <td>-7485.191</td> <td>-4195.601</td>\n",
       "</tr>\n",
       "</table>\n",
       "<table class=\"simpletable\">\n",
       "<tr>\n",
       "  <th>Omnibus:</th>       <td>27.991</td> <th>  Durbin-Watson:     </th> <td>   2.142</td>\n",
       "</tr>\n",
       "<tr>\n",
       "  <th>Prob(Omnibus):</th> <td> 0.000</td> <th>  Jarque-Bera (JB):  </th> <td>  44.664</td>\n",
       "</tr>\n",
       "<tr>\n",
       "  <th>Skew:</th>          <td> 0.493</td> <th>  Prob(JB):          </th> <td>2.00e-10</td>\n",
       "</tr>\n",
       "<tr>\n",
       "  <th>Kurtosis:</th>      <td> 4.348</td> <th>  Cond. No.          </th> <td>    199.</td>\n",
       "</tr>\n",
       "</table><br/><br/>Warnings:<br/>[1] Standard Errors assume that the covariance matrix of the errors is correctly specified."
      ],
      "text/plain": [
       "<class 'statsmodels.iolib.summary.Summary'>\n",
       "\"\"\"\n",
       "                            OLS Regression Results                            \n",
       "==============================================================================\n",
       "Dep. Variable:                 salary   R-squared:                       0.823\n",
       "Model:                            OLS   Adj. R-squared:                  0.819\n",
       "Method:                 Least Squares   F-statistic:                     193.0\n",
       "Date:                Tue, 26 May 2020   Prob (F-statistic):          1.18e-134\n",
       "Time:                        12:08:41   Log-Likelihood:                -3845.1\n",
       "No. Observations:                 384   AIC:                             7710.\n",
       "Df Residuals:                     374   BIC:                             7750.\n",
       "Df Model:                           9                                         \n",
       "Covariance Type:            nonrobust                                         \n",
       "==============================================================================\n",
       "                 coef    std err          t      P>|t|      [0.025      0.975]\n",
       "------------------------------------------------------------------------------\n",
       "const       1.322e+04   2294.314      5.762      0.000    8708.044    1.77e+04\n",
       "exprior      264.6635     61.207      4.324      0.000     144.311     385.016\n",
       "yearsrank    675.0913     51.495     13.110      0.000     573.834     776.348\n",
       "market      3.011e+04   1991.606     15.118      0.000    2.62e+04     3.4e+04\n",
       "yearsabs     -37.1157     17.624     -2.106      0.036     -71.771      -2.461\n",
       "position_2  4868.7802    760.623      6.401      0.000    3373.147    6364.413\n",
       "position_3  1.373e+04    831.408     16.511      0.000    1.21e+04    1.54e+04\n",
       "Field_2    -2306.6874    787.401     -2.929      0.004   -3854.976    -758.399\n",
       "Field_3    -6221.6014    950.645     -6.545      0.000   -8090.880   -4352.322\n",
       "Field_4    -5840.3962    836.481     -6.982      0.000   -7485.191   -4195.601\n",
       "==============================================================================\n",
       "Omnibus:                       27.991   Durbin-Watson:                   2.142\n",
       "Prob(Omnibus):                  0.000   Jarque-Bera (JB):               44.664\n",
       "Skew:                           0.493   Prob(JB):                     2.00e-10\n",
       "Kurtosis:                       4.348   Cond. No.                         199.\n",
       "==============================================================================\n",
       "\n",
       "Warnings:\n",
       "[1] Standard Errors assume that the covariance matrix of the errors is correctly specified.\n",
       "\"\"\""
      ]
     },
     "execution_count": 31,
     "metadata": {},
     "output_type": "execute_result"
    }
   ],
   "source": [
    "model1= sm.OLS(y_train, X_train).fit()\n",
    "model1.summary()"
   ]
  },
  {
   "cell_type": "markdown",
   "metadata": {},
   "source": [
    "# OOP"
   ]
  },
  {
   "cell_type": "code",
   "execution_count": 32,
   "metadata": {},
   "outputs": [
    {
     "name": "stdout",
     "output_type": "stream",
     "text": [
      "error summary:\n",
      "average standard residuals: -6.885104028683141e-18\n",
      "minimum standard residuals: -1.8679310394276138\n",
      "maximum standard residuals: 3.2657164583341336\n",
      "MSE: 31809333.085408114\n",
      "RMSE: 5639.976337309236\n"
     ]
    }
   ],
   "source": [
    "import os\n",
    "os.chdir('../')\n",
    "from src.ErrorCalculator import ErrorCalculator\n",
    "my_err1= ErrorCalculator(preds, y_test)\n",
    "my_err1.error_summary()"
   ]
  },
  {
   "cell_type": "markdown",
   "metadata": {},
   "source": [
    "# Model2"
   ]
  },
  {
   "cell_type": "code",
   "execution_count": 33,
   "metadata": {},
   "outputs": [],
   "source": [
    "X_train= X_train.drop('yearsrank', axis=1)\n",
    "X_test= X_test.drop('yearsrank', axis=1)"
   ]
  },
  {
   "cell_type": "code",
   "execution_count": 34,
   "metadata": {},
   "outputs": [
    {
     "data": {
      "text/plain": [
       "(384, 9)"
      ]
     },
     "execution_count": 34,
     "metadata": {},
     "output_type": "execute_result"
    }
   ],
   "source": [
    "X_train.shape"
   ]
  },
  {
   "cell_type": "code",
   "execution_count": 35,
   "metadata": {},
   "outputs": [
    {
     "data": {
      "text/html": [
       "<table class=\"simpletable\">\n",
       "<caption>OLS Regression Results</caption>\n",
       "<tr>\n",
       "  <th>Dep. Variable:</th>         <td>salary</td>      <th>  R-squared:         </th> <td>   0.741</td> \n",
       "</tr>\n",
       "<tr>\n",
       "  <th>Model:</th>                   <td>OLS</td>       <th>  Adj. R-squared:    </th> <td>   0.736</td> \n",
       "</tr>\n",
       "<tr>\n",
       "  <th>Method:</th>             <td>Least Squares</td>  <th>  F-statistic:       </th> <td>   134.4</td> \n",
       "</tr>\n",
       "<tr>\n",
       "  <th>Date:</th>             <td>Tue, 26 May 2020</td> <th>  Prob (F-statistic):</th> <td>3.50e-105</td>\n",
       "</tr>\n",
       "<tr>\n",
       "  <th>Time:</th>                 <td>12:08:41</td>     <th>  Log-Likelihood:    </th> <td> -3917.7</td> \n",
       "</tr>\n",
       "<tr>\n",
       "  <th>No. Observations:</th>      <td>   384</td>      <th>  AIC:               </th> <td>   7853.</td> \n",
       "</tr>\n",
       "<tr>\n",
       "  <th>Df Residuals:</th>          <td>   375</td>      <th>  BIC:               </th> <td>   7889.</td> \n",
       "</tr>\n",
       "<tr>\n",
       "  <th>Df Model:</th>              <td>     8</td>      <th>                     </th>     <td> </td>    \n",
       "</tr>\n",
       "<tr>\n",
       "  <th>Covariance Type:</th>      <td>nonrobust</td>    <th>                     </th>     <td> </td>    \n",
       "</tr>\n",
       "</table>\n",
       "<table class=\"simpletable\">\n",
       "<tr>\n",
       "       <td></td>         <th>coef</th>     <th>std err</th>      <th>t</th>      <th>P>|t|</th>  <th>[0.025</th>    <th>0.975]</th>  \n",
       "</tr>\n",
       "<tr>\n",
       "  <th>const</th>      <td> 1.883e+04</td> <td> 2719.531</td> <td>    6.923</td> <td> 0.000</td> <td> 1.35e+04</td> <td> 2.42e+04</td>\n",
       "</tr>\n",
       "<tr>\n",
       "  <th>exprior</th>    <td>  142.3242</td> <td>   72.983</td> <td>    1.950</td> <td> 0.052</td> <td>   -1.182</td> <td>  285.830</td>\n",
       "</tr>\n",
       "<tr>\n",
       "  <th>market</th>     <td> 2.792e+04</td> <td> 2394.388</td> <td>   11.659</td> <td> 0.000</td> <td> 2.32e+04</td> <td> 3.26e+04</td>\n",
       "</tr>\n",
       "<tr>\n",
       "  <th>yearsabs</th>   <td>  -22.1916</td> <td>   21.219</td> <td>   -1.046</td> <td> 0.296</td> <td>  -63.915</td> <td>   19.532</td>\n",
       "</tr>\n",
       "<tr>\n",
       "  <th>position_2</th> <td> 7009.1532</td> <td>  896.300</td> <td>    7.820</td> <td> 0.000</td> <td> 5246.749</td> <td> 8771.557</td>\n",
       "</tr>\n",
       "<tr>\n",
       "  <th>position_3</th> <td> 1.819e+04</td> <td>  915.117</td> <td>   19.879</td> <td> 0.000</td> <td> 1.64e+04</td> <td>    2e+04</td>\n",
       "</tr>\n",
       "<tr>\n",
       "  <th>Field_2</th>    <td>-2087.6620</td> <td>  949.785</td> <td>   -2.198</td> <td> 0.029</td> <td>-3955.234</td> <td> -220.090</td>\n",
       "</tr>\n",
       "<tr>\n",
       "  <th>Field_3</th>    <td>-8413.7868</td> <td> 1129.069</td> <td>   -7.452</td> <td> 0.000</td> <td>-1.06e+04</td> <td>-6193.687</td>\n",
       "</tr>\n",
       "<tr>\n",
       "  <th>Field_4</th>    <td>-7591.3861</td> <td>  996.264</td> <td>   -7.620</td> <td> 0.000</td> <td>-9550.351</td> <td>-5632.421</td>\n",
       "</tr>\n",
       "</table>\n",
       "<table class=\"simpletable\">\n",
       "<tr>\n",
       "  <th>Omnibus:</th>       <td>52.024</td> <th>  Durbin-Watson:     </th> <td>   2.130</td>\n",
       "</tr>\n",
       "<tr>\n",
       "  <th>Prob(Omnibus):</th> <td> 0.000</td> <th>  Jarque-Bera (JB):  </th> <td>  92.719</td>\n",
       "</tr>\n",
       "<tr>\n",
       "  <th>Skew:</th>          <td> 0.790</td> <th>  Prob(JB):          </th> <td>7.35e-21</td>\n",
       "</tr>\n",
       "<tr>\n",
       "  <th>Kurtosis:</th>      <td> 4.817</td> <th>  Cond. No.          </th> <td>    193.</td>\n",
       "</tr>\n",
       "</table><br/><br/>Warnings:<br/>[1] Standard Errors assume that the covariance matrix of the errors is correctly specified."
      ],
      "text/plain": [
       "<class 'statsmodels.iolib.summary.Summary'>\n",
       "\"\"\"\n",
       "                            OLS Regression Results                            \n",
       "==============================================================================\n",
       "Dep. Variable:                 salary   R-squared:                       0.741\n",
       "Model:                            OLS   Adj. R-squared:                  0.736\n",
       "Method:                 Least Squares   F-statistic:                     134.4\n",
       "Date:                Tue, 26 May 2020   Prob (F-statistic):          3.50e-105\n",
       "Time:                        12:08:41   Log-Likelihood:                -3917.7\n",
       "No. Observations:                 384   AIC:                             7853.\n",
       "Df Residuals:                     375   BIC:                             7889.\n",
       "Df Model:                           8                                         \n",
       "Covariance Type:            nonrobust                                         \n",
       "==============================================================================\n",
       "                 coef    std err          t      P>|t|      [0.025      0.975]\n",
       "------------------------------------------------------------------------------\n",
       "const       1.883e+04   2719.531      6.923      0.000    1.35e+04    2.42e+04\n",
       "exprior      142.3242     72.983      1.950      0.052      -1.182     285.830\n",
       "market      2.792e+04   2394.388     11.659      0.000    2.32e+04    3.26e+04\n",
       "yearsabs     -22.1916     21.219     -1.046      0.296     -63.915      19.532\n",
       "position_2  7009.1532    896.300      7.820      0.000    5246.749    8771.557\n",
       "position_3  1.819e+04    915.117     19.879      0.000    1.64e+04       2e+04\n",
       "Field_2    -2087.6620    949.785     -2.198      0.029   -3955.234    -220.090\n",
       "Field_3    -8413.7868   1129.069     -7.452      0.000   -1.06e+04   -6193.687\n",
       "Field_4    -7591.3861    996.264     -7.620      0.000   -9550.351   -5632.421\n",
       "==============================================================================\n",
       "Omnibus:                       52.024   Durbin-Watson:                   2.130\n",
       "Prob(Omnibus):                  0.000   Jarque-Bera (JB):               92.719\n",
       "Skew:                           0.790   Prob(JB):                     7.35e-21\n",
       "Kurtosis:                       4.817   Cond. No.                         193.\n",
       "==============================================================================\n",
       "\n",
       "Warnings:\n",
       "[1] Standard Errors assume that the covariance matrix of the errors is correctly specified.\n",
       "\"\"\""
      ]
     },
     "execution_count": 35,
     "metadata": {},
     "output_type": "execute_result"
    }
   ],
   "source": [
    "\n",
    "\n",
    "model2= sm.OLS(y_train, X_train).fit()\n",
    "preds2= model2.predict(X_test)\n",
    "train_preds2= model2.predict(X_train)\n",
    "model2.summary()"
   ]
  },
  {
   "cell_type": "code",
   "execution_count": 36,
   "metadata": {},
   "outputs": [],
   "source": [
    "#model 2 summary\n",
    "my_err2= ErrorCalculator(preds2, y_test)\n"
   ]
  },
  {
   "cell_type": "markdown",
   "metadata": {},
   "source": [
    "## Compare models"
   ]
  },
  {
   "cell_type": "code",
   "execution_count": 37,
   "metadata": {},
   "outputs": [
    {
     "name": "stdout",
     "output_type": "stream",
     "text": [
      " model 1 has an rmse of : 5639.976337309236\n",
      " model 2 has an rmse of : 6703.232397743591\n"
     ]
    }
   ],
   "source": [
    "print(f' model 1 has an rmse of : {my_err1.get_rmse()}')\n",
    "print(f' model 2 has an rmse of : {my_err2.get_rmse()}')\n"
   ]
  },
  {
   "cell_type": "markdown",
   "metadata": {},
   "source": [
    "Model 1 (with yearsrank feature) performs better than Model 2. This is seen by model 2 having a greater error (which is what we are trying to minimize) than model 1. This means the predictions in model 1 are better. "
   ]
  },
  {
   "cell_type": "code",
   "execution_count": 38,
   "metadata": {},
   "outputs": [
    {
     "name": "stdout",
     "output_type": "stream",
     "text": [
      " train rmse: 6524.857963579122\n",
      " test rmse: 6703.232397743591\n",
      " difference between train and test for model 2: 178.37443416446877\n"
     ]
    }
   ],
   "source": [
    "my_err= ErrorCalculator(preds2, y_test)\n",
    "test_rmse2= my_err.get_rmse()\n",
    "\n",
    "my_err= ErrorCalculator(train_preds2, y_train)\n",
    "train_rmse2= my_err.get_rmse()\n",
    "\n",
    "print(f' train rmse: {train_rmse2}')\n",
    "print(f' test rmse: {test_rmse2}')\n",
    "print(f' difference between train and test for model 2: {test_rmse2- train_rmse2}')"
   ]
  },
  {
   "cell_type": "markdown",
   "metadata": {},
   "source": [
    "# Plot\n",
    " "
   ]
  },
  {
   "cell_type": "code",
   "execution_count": 39,
   "metadata": {},
   "outputs": [
    {
     "data": {
      "image/png": "[encoded data removed]",
      "text/plain": [
       "<Figure size 432x288 with 1 Axes>"
      ]
     },
     "metadata": {
      "needs_background": "light"
     },
     "output_type": "display_data"
    }
   ],
   "source": [
    "from src.Plotter import Plotter\n",
    "\n",
    "Plotter(preds2, y_test).plot()"
   ]
  },
  {
   "cell_type": "code",
   "execution_count": 40,
   "metadata": {},
   "outputs": [
    {
     "data": {
      "image/png": "[encoded data removed]",
      "text/plain": [
       "<Figure size 432x288 with 1 Axes>"
      ]
     },
     "metadata": {
      "needs_background": "light"
     },
     "output_type": "display_data"
    }
   ],
   "source": [
    "from src.HistogramPlotter import HistogramPlotter\n",
    "HistogramPlotter(preds2, y_test).plot()"
   ]
  },
  {
   "cell_type": "code",
   "execution_count": 41,
   "metadata": {},
   "outputs": [
    {
     "data": {
      "image/png": "[encoded data removed]",
      "text/plain": [
       "<Figure size 432x288 with 1 Axes>"
      ]
     },
     "metadata": {
      "needs_background": "light"
     },
     "output_type": "display_data"
    }
   ],
   "source": [
    "from src.ScatterPlotter import ScatterPlotter\n",
    "ScatterPlotter(preds, y_test).plot()"
   ]
  }
 ],
 "metadata": {
  "kernelspec": {
   "display_name": "Python 3",
   "language": "python",
   "name": "python3"
  },
  "language_info": {
   "codemirror_mode": {
    "name": "ipython",
    "version": 3
   },
   "file_extension": ".py",
   "mimetype": "text/x-python",
   "name": "python",
   "nbconvert_exporter": "python",
   "pygments_lexer": "ipython3",
   "version": "3.7.3"
  }
 },
 "nbformat": 4,
 "nbformat_minor": 2
}
